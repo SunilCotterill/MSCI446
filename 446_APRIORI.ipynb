{
  "nbformat": 4,
  "nbformat_minor": 0,
  "metadata": {
    "colab": {
      "provenance": []
    },
    "kernelspec": {
      "name": "python3",
      "display_name": "Python 3"
    },
    "language_info": {
      "name": "python"
    }
  },
  "cells": [
    {
      "cell_type": "markdown",
      "source": [
        "# APRIORI Rule Mining\n"
      ],
      "metadata": {
        "id": "y6rHAnk8W9fT"
      }
    },
    {
      "cell_type": "markdown",
      "source": [
        "##Preparing Data and Models"
      ],
      "metadata": {
        "id": "PVNpHPObYUUn"
      }
    },
    {
      "cell_type": "markdown",
      "source": [
        "Importing required libraries"
      ],
      "metadata": {
        "id": "B4vjXaIOXIWe"
      }
    },
    {
      "cell_type": "code",
      "execution_count": null,
      "metadata": {
        "id": "h2tFRRvIHUo7"
      },
      "outputs": [],
      "source": [
        "import pandas as pd\n",
        "import numpy as np\n",
        "\n",
        "import csv\n",
        "from mlxtend.preprocessing import TransactionEncoder\n",
        "from mlxtend.frequent_patterns import apriori,association_rules"
      ]
    },
    {
      "cell_type": "markdown",
      "source": [
        "Loading data"
      ],
      "metadata": {
        "id": "zLJ98qULXMM5"
      }
    },
    {
      "cell_type": "code",
      "source": [
        "responses = pd.read_csv('/content/ML Data Collection (Responses) Final - Form Responses 1.csv')\n",
        "responses = responses.set_axis(['Timestamp','Program','Coops Completed', 'Role', 'Pay', 'Adjusted Pay','WFH Status', 'Weekly Hours', 'Returning', 'Obtain Job', 'Top Choice', 'Location','Team Size', 'Other Co-ops', 'Enjoyment', 'Enjoyed'], axis=1, inplace=False)\n",
        "responses.head()"
      ],
      "metadata": {
        "colab": {
          "base_uri": "https://localhost:8080/",
          "height": 354
        },
        "id": "bN5GuGC2Kwlb",
        "outputId": "f8701e03-1334-41d2-ae76-bb75b41c22b0"
      },
      "execution_count": null,
      "outputs": [
        {
          "output_type": "execute_result",
          "data": {
            "text/plain": [
              "           Timestamp                 Program  Coops Completed  \\\n",
              "0  3/5/2022 17:46:59  Management Engineering                3   \n",
              "1  3/5/2022 17:50:01  Management Engineering                3   \n",
              "2  3/5/2022 17:55:04  Management Engineering                3   \n",
              "3  3/5/2022 17:55:27  Management Engineering                3   \n",
              "4  3/5/2022 17:59:27  Management Engineering                3   \n",
              "\n",
              "               Role   Pay  Adjusted Pay WFH Status  Weekly Hours Returning  \\\n",
              "0   Project Manager  20.0         -2.55     Remote          37.5        No   \n",
              "1        Consultant  22.0         -0.55     Remote          37.5        No   \n",
              "2         Developer  25.0          2.45     Remote          37.5        No   \n",
              "3   Project Manager  23.5          0.95     Remote          37.5        No   \n",
              "4  Business Analyst  26.5          3.95     Remote          37.5        No   \n",
              "\n",
              "      Obtain Job Top Choice       Location  Team Size Other Co-ops  Enjoyment  \\\n",
              "0  WaterlooWorks         No  Toronto (GTA)         10           No          4   \n",
              "1  WaterlooWorks        Yes  Toronto (GTA)          7           No          4   \n",
              "2  WaterlooWorks         No  Toronto (GTA)          7           No          3   \n",
              "3  WaterlooWorks        Yes  Toronto (GTA)          4           No          5   \n",
              "4  WaterlooWorks        Yes  Toronto (GTA)         14           No          2   \n",
              "\n",
              "   Enjoyed  \n",
              "0        1  \n",
              "1        1  \n",
              "2        0  \n",
              "3        1  \n",
              "4        0  "
            ],
            "text/html": [
              "\n",
              "  <div id=\"df-4e930afa-edc9-4532-bfcf-e329157f22ac\">\n",
              "    <div class=\"colab-df-container\">\n",
              "      <div>\n",
              "<style scoped>\n",
              "    .dataframe tbody tr th:only-of-type {\n",
              "        vertical-align: middle;\n",
              "    }\n",
              "\n",
              "    .dataframe tbody tr th {\n",
              "        vertical-align: top;\n",
              "    }\n",
              "\n",
              "    .dataframe thead th {\n",
              "        text-align: right;\n",
              "    }\n",
              "</style>\n",
              "<table border=\"1\" class=\"dataframe\">\n",
              "  <thead>\n",
              "    <tr style=\"text-align: right;\">\n",
              "      <th></th>\n",
              "      <th>Timestamp</th>\n",
              "      <th>Program</th>\n",
              "      <th>Coops Completed</th>\n",
              "      <th>Role</th>\n",
              "      <th>Pay</th>\n",
              "      <th>Adjusted Pay</th>\n",
              "      <th>WFH Status</th>\n",
              "      <th>Weekly Hours</th>\n",
              "      <th>Returning</th>\n",
              "      <th>Obtain Job</th>\n",
              "      <th>Top Choice</th>\n",
              "      <th>Location</th>\n",
              "      <th>Team Size</th>\n",
              "      <th>Other Co-ops</th>\n",
              "      <th>Enjoyment</th>\n",
              "      <th>Enjoyed</th>\n",
              "    </tr>\n",
              "  </thead>\n",
              "  <tbody>\n",
              "    <tr>\n",
              "      <th>0</th>\n",
              "      <td>3/5/2022 17:46:59</td>\n",
              "      <td>Management Engineering</td>\n",
              "      <td>3</td>\n",
              "      <td>Project Manager</td>\n",
              "      <td>20.0</td>\n",
              "      <td>-2.55</td>\n",
              "      <td>Remote</td>\n",
              "      <td>37.5</td>\n",
              "      <td>No</td>\n",
              "      <td>WaterlooWorks</td>\n",
              "      <td>No</td>\n",
              "      <td>Toronto (GTA)</td>\n",
              "      <td>10</td>\n",
              "      <td>No</td>\n",
              "      <td>4</td>\n",
              "      <td>1</td>\n",
              "    </tr>\n",
              "    <tr>\n",
              "      <th>1</th>\n",
              "      <td>3/5/2022 17:50:01</td>\n",
              "      <td>Management Engineering</td>\n",
              "      <td>3</td>\n",
              "      <td>Consultant</td>\n",
              "      <td>22.0</td>\n",
              "      <td>-0.55</td>\n",
              "      <td>Remote</td>\n",
              "      <td>37.5</td>\n",
              "      <td>No</td>\n",
              "      <td>WaterlooWorks</td>\n",
              "      <td>Yes</td>\n",
              "      <td>Toronto (GTA)</td>\n",
              "      <td>7</td>\n",
              "      <td>No</td>\n",
              "      <td>4</td>\n",
              "      <td>1</td>\n",
              "    </tr>\n",
              "    <tr>\n",
              "      <th>2</th>\n",
              "      <td>3/5/2022 17:55:04</td>\n",
              "      <td>Management Engineering</td>\n",
              "      <td>3</td>\n",
              "      <td>Developer</td>\n",
              "      <td>25.0</td>\n",
              "      <td>2.45</td>\n",
              "      <td>Remote</td>\n",
              "      <td>37.5</td>\n",
              "      <td>No</td>\n",
              "      <td>WaterlooWorks</td>\n",
              "      <td>No</td>\n",
              "      <td>Toronto (GTA)</td>\n",
              "      <td>7</td>\n",
              "      <td>No</td>\n",
              "      <td>3</td>\n",
              "      <td>0</td>\n",
              "    </tr>\n",
              "    <tr>\n",
              "      <th>3</th>\n",
              "      <td>3/5/2022 17:55:27</td>\n",
              "      <td>Management Engineering</td>\n",
              "      <td>3</td>\n",
              "      <td>Project Manager</td>\n",
              "      <td>23.5</td>\n",
              "      <td>0.95</td>\n",
              "      <td>Remote</td>\n",
              "      <td>37.5</td>\n",
              "      <td>No</td>\n",
              "      <td>WaterlooWorks</td>\n",
              "      <td>Yes</td>\n",
              "      <td>Toronto (GTA)</td>\n",
              "      <td>4</td>\n",
              "      <td>No</td>\n",
              "      <td>5</td>\n",
              "      <td>1</td>\n",
              "    </tr>\n",
              "    <tr>\n",
              "      <th>4</th>\n",
              "      <td>3/5/2022 17:59:27</td>\n",
              "      <td>Management Engineering</td>\n",
              "      <td>3</td>\n",
              "      <td>Business Analyst</td>\n",
              "      <td>26.5</td>\n",
              "      <td>3.95</td>\n",
              "      <td>Remote</td>\n",
              "      <td>37.5</td>\n",
              "      <td>No</td>\n",
              "      <td>WaterlooWorks</td>\n",
              "      <td>Yes</td>\n",
              "      <td>Toronto (GTA)</td>\n",
              "      <td>14</td>\n",
              "      <td>No</td>\n",
              "      <td>2</td>\n",
              "      <td>0</td>\n",
              "    </tr>\n",
              "  </tbody>\n",
              "</table>\n",
              "</div>\n",
              "      <button class=\"colab-df-convert\" onclick=\"convertToInteractive('df-4e930afa-edc9-4532-bfcf-e329157f22ac')\"\n",
              "              title=\"Convert this dataframe to an interactive table.\"\n",
              "              style=\"display:none;\">\n",
              "        \n",
              "  <svg xmlns=\"http://www.w3.org/2000/svg\" height=\"24px\"viewBox=\"0 0 24 24\"\n",
              "       width=\"24px\">\n",
              "    <path d=\"M0 0h24v24H0V0z\" fill=\"none\"/>\n",
              "    <path d=\"M18.56 5.44l.94 2.06.94-2.06 2.06-.94-2.06-.94-.94-2.06-.94 2.06-2.06.94zm-11 1L8.5 8.5l.94-2.06 2.06-.94-2.06-.94L8.5 2.5l-.94 2.06-2.06.94zm10 10l.94 2.06.94-2.06 2.06-.94-2.06-.94-.94-2.06-.94 2.06-2.06.94z\"/><path d=\"M17.41 7.96l-1.37-1.37c-.4-.4-.92-.59-1.43-.59-.52 0-1.04.2-1.43.59L10.3 9.45l-7.72 7.72c-.78.78-.78 2.05 0 2.83L4 21.41c.39.39.9.59 1.41.59.51 0 1.02-.2 1.41-.59l7.78-7.78 2.81-2.81c.8-.78.8-2.07 0-2.86zM5.41 20L4 18.59l7.72-7.72 1.47 1.35L5.41 20z\"/>\n",
              "  </svg>\n",
              "      </button>\n",
              "      \n",
              "  <style>\n",
              "    .colab-df-container {\n",
              "      display:flex;\n",
              "      flex-wrap:wrap;\n",
              "      gap: 12px;\n",
              "    }\n",
              "\n",
              "    .colab-df-convert {\n",
              "      background-color: #E8F0FE;\n",
              "      border: none;\n",
              "      border-radius: 50%;\n",
              "      cursor: pointer;\n",
              "      display: none;\n",
              "      fill: #1967D2;\n",
              "      height: 32px;\n",
              "      padding: 0 0 0 0;\n",
              "      width: 32px;\n",
              "    }\n",
              "\n",
              "    .colab-df-convert:hover {\n",
              "      background-color: #E2EBFA;\n",
              "      box-shadow: 0px 1px 2px rgba(60, 64, 67, 0.3), 0px 1px 3px 1px rgba(60, 64, 67, 0.15);\n",
              "      fill: #174EA6;\n",
              "    }\n",
              "\n",
              "    [theme=dark] .colab-df-convert {\n",
              "      background-color: #3B4455;\n",
              "      fill: #D2E3FC;\n",
              "    }\n",
              "\n",
              "    [theme=dark] .colab-df-convert:hover {\n",
              "      background-color: #434B5C;\n",
              "      box-shadow: 0px 1px 3px 1px rgba(0, 0, 0, 0.15);\n",
              "      filter: drop-shadow(0px 1px 2px rgba(0, 0, 0, 0.3));\n",
              "      fill: #FFFFFF;\n",
              "    }\n",
              "  </style>\n",
              "\n",
              "      <script>\n",
              "        const buttonEl =\n",
              "          document.querySelector('#df-4e930afa-edc9-4532-bfcf-e329157f22ac button.colab-df-convert');\n",
              "        buttonEl.style.display =\n",
              "          google.colab.kernel.accessAllowed ? 'block' : 'none';\n",
              "\n",
              "        async function convertToInteractive(key) {\n",
              "          const element = document.querySelector('#df-4e930afa-edc9-4532-bfcf-e329157f22ac');\n",
              "          const dataTable =\n",
              "            await google.colab.kernel.invokeFunction('convertToInteractive',\n",
              "                                                     [key], {});\n",
              "          if (!dataTable) return;\n",
              "\n",
              "          const docLinkHtml = 'Like what you see? Visit the ' +\n",
              "            '<a target=\"_blank\" href=https://colab.research.google.com/notebooks/data_table.ipynb>data table notebook</a>'\n",
              "            + ' to learn more about interactive tables.';\n",
              "          element.innerHTML = '';\n",
              "          dataTable['output_type'] = 'display_data';\n",
              "          await google.colab.output.renderOutput(dataTable, element);\n",
              "          const docLink = document.createElement('div');\n",
              "          docLink.innerHTML = docLinkHtml;\n",
              "          element.appendChild(docLink);\n",
              "        }\n",
              "      </script>\n",
              "    </div>\n",
              "  </div>\n",
              "  "
            ]
          },
          "metadata": {},
          "execution_count": 56
        }
      ]
    },
    {
      "cell_type": "markdown",
      "source": [
        "Making pay a categorical variable"
      ],
      "metadata": {
        "id": "xZmhtxAyXXQM"
      }
    },
    {
      "cell_type": "code",
      "source": [
        "#taken from https://stackoverflow.com/questions/49382207/how-to-map-numeric-data-into-categories-bins-in-pandas-dataframe\n",
        "bins = [0, 15, 20, 30, 40, 50, np.inf]\n",
        "names = ['-15', '15-20', '20-30', '30-40','40-50', '50+']\n",
        "responses['PayRange'] = pd.cut(responses['Pay'], bins, labels=names)"
      ],
      "metadata": {
        "id": "jworZNjmf0bw"
      },
      "execution_count": null,
      "outputs": []
    },
    {
      "cell_type": "markdown",
      "source": [
        "Refactoring answers to make itemsets more comprehensible"
      ],
      "metadata": {
        "id": "1reRxd4-X6xs"
      }
    },
    {
      "cell_type": "code",
      "source": [
        "responses['Returning'] = responses['Returning'].apply(lambda x: \"Yes Returning\"  if x=='Yes' else 'No Returning')\n",
        "responses['Top Choice'] = responses['Top Choice'].apply(lambda x: \"Yes Top Choice\"  if x=='Yes' else 'No Top Choice')\n",
        "responses['Other Co-ops'] = responses['Other Co-ops'].apply(lambda x: \"Yes Other Coops\"  if x=='Yes' else 'No Other Coops')\n",
        "responses.head()"
      ],
      "metadata": {
        "colab": {
          "base_uri": "https://localhost:8080/",
          "height": 354
        },
        "id": "I_SQGVB3hTcv",
        "outputId": "063d8299-8c7a-44cb-b65f-51363c17b5f3"
      },
      "execution_count": null,
      "outputs": [
        {
          "output_type": "execute_result",
          "data": {
            "text/plain": [
              "           Timestamp                 Program  Coops Completed  \\\n",
              "0  3/5/2022 17:46:59  Management Engineering                3   \n",
              "1  3/5/2022 17:50:01  Management Engineering                3   \n",
              "2  3/5/2022 17:55:04  Management Engineering                3   \n",
              "3  3/5/2022 17:55:27  Management Engineering                3   \n",
              "4  3/5/2022 17:59:27  Management Engineering                3   \n",
              "\n",
              "               Role   Pay  Adjusted Pay WFH Status  Weekly Hours  \\\n",
              "0   Project Manager  20.0         -2.55     Remote          37.5   \n",
              "1        Consultant  22.0         -0.55     Remote          37.5   \n",
              "2         Developer  25.0          2.45     Remote          37.5   \n",
              "3   Project Manager  23.5          0.95     Remote          37.5   \n",
              "4  Business Analyst  26.5          3.95     Remote          37.5   \n",
              "\n",
              "      Returning     Obtain Job      Top Choice       Location  Team Size  \\\n",
              "0  No Returning  WaterlooWorks   No Top Choice  Toronto (GTA)         10   \n",
              "1  No Returning  WaterlooWorks  Yes Top Choice  Toronto (GTA)          7   \n",
              "2  No Returning  WaterlooWorks   No Top Choice  Toronto (GTA)          7   \n",
              "3  No Returning  WaterlooWorks  Yes Top Choice  Toronto (GTA)          4   \n",
              "4  No Returning  WaterlooWorks  Yes Top Choice  Toronto (GTA)         14   \n",
              "\n",
              "     Other Co-ops  Enjoyment  Enjoyed PayRange  \n",
              "0  No Other Coops          4        1    15-20  \n",
              "1  No Other Coops          4        1    20-30  \n",
              "2  No Other Coops          3        0    20-30  \n",
              "3  No Other Coops          5        1    20-30  \n",
              "4  No Other Coops          2        0    20-30  "
            ],
            "text/html": [
              "\n",
              "  <div id=\"df-f07c9e74-15e3-467d-a6d7-6b2946eb0b64\">\n",
              "    <div class=\"colab-df-container\">\n",
              "      <div>\n",
              "<style scoped>\n",
              "    .dataframe tbody tr th:only-of-type {\n",
              "        vertical-align: middle;\n",
              "    }\n",
              "\n",
              "    .dataframe tbody tr th {\n",
              "        vertical-align: top;\n",
              "    }\n",
              "\n",
              "    .dataframe thead th {\n",
              "        text-align: right;\n",
              "    }\n",
              "</style>\n",
              "<table border=\"1\" class=\"dataframe\">\n",
              "  <thead>\n",
              "    <tr style=\"text-align: right;\">\n",
              "      <th></th>\n",
              "      <th>Timestamp</th>\n",
              "      <th>Program</th>\n",
              "      <th>Coops Completed</th>\n",
              "      <th>Role</th>\n",
              "      <th>Pay</th>\n",
              "      <th>Adjusted Pay</th>\n",
              "      <th>WFH Status</th>\n",
              "      <th>Weekly Hours</th>\n",
              "      <th>Returning</th>\n",
              "      <th>Obtain Job</th>\n",
              "      <th>Top Choice</th>\n",
              "      <th>Location</th>\n",
              "      <th>Team Size</th>\n",
              "      <th>Other Co-ops</th>\n",
              "      <th>Enjoyment</th>\n",
              "      <th>Enjoyed</th>\n",
              "      <th>PayRange</th>\n",
              "    </tr>\n",
              "  </thead>\n",
              "  <tbody>\n",
              "    <tr>\n",
              "      <th>0</th>\n",
              "      <td>3/5/2022 17:46:59</td>\n",
              "      <td>Management Engineering</td>\n",
              "      <td>3</td>\n",
              "      <td>Project Manager</td>\n",
              "      <td>20.0</td>\n",
              "      <td>-2.55</td>\n",
              "      <td>Remote</td>\n",
              "      <td>37.5</td>\n",
              "      <td>No Returning</td>\n",
              "      <td>WaterlooWorks</td>\n",
              "      <td>No Top Choice</td>\n",
              "      <td>Toronto (GTA)</td>\n",
              "      <td>10</td>\n",
              "      <td>No Other Coops</td>\n",
              "      <td>4</td>\n",
              "      <td>1</td>\n",
              "      <td>15-20</td>\n",
              "    </tr>\n",
              "    <tr>\n",
              "      <th>1</th>\n",
              "      <td>3/5/2022 17:50:01</td>\n",
              "      <td>Management Engineering</td>\n",
              "      <td>3</td>\n",
              "      <td>Consultant</td>\n",
              "      <td>22.0</td>\n",
              "      <td>-0.55</td>\n",
              "      <td>Remote</td>\n",
              "      <td>37.5</td>\n",
              "      <td>No Returning</td>\n",
              "      <td>WaterlooWorks</td>\n",
              "      <td>Yes Top Choice</td>\n",
              "      <td>Toronto (GTA)</td>\n",
              "      <td>7</td>\n",
              "      <td>No Other Coops</td>\n",
              "      <td>4</td>\n",
              "      <td>1</td>\n",
              "      <td>20-30</td>\n",
              "    </tr>\n",
              "    <tr>\n",
              "      <th>2</th>\n",
              "      <td>3/5/2022 17:55:04</td>\n",
              "      <td>Management Engineering</td>\n",
              "      <td>3</td>\n",
              "      <td>Developer</td>\n",
              "      <td>25.0</td>\n",
              "      <td>2.45</td>\n",
              "      <td>Remote</td>\n",
              "      <td>37.5</td>\n",
              "      <td>No Returning</td>\n",
              "      <td>WaterlooWorks</td>\n",
              "      <td>No Top Choice</td>\n",
              "      <td>Toronto (GTA)</td>\n",
              "      <td>7</td>\n",
              "      <td>No Other Coops</td>\n",
              "      <td>3</td>\n",
              "      <td>0</td>\n",
              "      <td>20-30</td>\n",
              "    </tr>\n",
              "    <tr>\n",
              "      <th>3</th>\n",
              "      <td>3/5/2022 17:55:27</td>\n",
              "      <td>Management Engineering</td>\n",
              "      <td>3</td>\n",
              "      <td>Project Manager</td>\n",
              "      <td>23.5</td>\n",
              "      <td>0.95</td>\n",
              "      <td>Remote</td>\n",
              "      <td>37.5</td>\n",
              "      <td>No Returning</td>\n",
              "      <td>WaterlooWorks</td>\n",
              "      <td>Yes Top Choice</td>\n",
              "      <td>Toronto (GTA)</td>\n",
              "      <td>4</td>\n",
              "      <td>No Other Coops</td>\n",
              "      <td>5</td>\n",
              "      <td>1</td>\n",
              "      <td>20-30</td>\n",
              "    </tr>\n",
              "    <tr>\n",
              "      <th>4</th>\n",
              "      <td>3/5/2022 17:59:27</td>\n",
              "      <td>Management Engineering</td>\n",
              "      <td>3</td>\n",
              "      <td>Business Analyst</td>\n",
              "      <td>26.5</td>\n",
              "      <td>3.95</td>\n",
              "      <td>Remote</td>\n",
              "      <td>37.5</td>\n",
              "      <td>No Returning</td>\n",
              "      <td>WaterlooWorks</td>\n",
              "      <td>Yes Top Choice</td>\n",
              "      <td>Toronto (GTA)</td>\n",
              "      <td>14</td>\n",
              "      <td>No Other Coops</td>\n",
              "      <td>2</td>\n",
              "      <td>0</td>\n",
              "      <td>20-30</td>\n",
              "    </tr>\n",
              "  </tbody>\n",
              "</table>\n",
              "</div>\n",
              "      <button class=\"colab-df-convert\" onclick=\"convertToInteractive('df-f07c9e74-15e3-467d-a6d7-6b2946eb0b64')\"\n",
              "              title=\"Convert this dataframe to an interactive table.\"\n",
              "              style=\"display:none;\">\n",
              "        \n",
              "  <svg xmlns=\"http://www.w3.org/2000/svg\" height=\"24px\"viewBox=\"0 0 24 24\"\n",
              "       width=\"24px\">\n",
              "    <path d=\"M0 0h24v24H0V0z\" fill=\"none\"/>\n",
              "    <path d=\"M18.56 5.44l.94 2.06.94-2.06 2.06-.94-2.06-.94-.94-2.06-.94 2.06-2.06.94zm-11 1L8.5 8.5l.94-2.06 2.06-.94-2.06-.94L8.5 2.5l-.94 2.06-2.06.94zm10 10l.94 2.06.94-2.06 2.06-.94-2.06-.94-.94-2.06-.94 2.06-2.06.94z\"/><path d=\"M17.41 7.96l-1.37-1.37c-.4-.4-.92-.59-1.43-.59-.52 0-1.04.2-1.43.59L10.3 9.45l-7.72 7.72c-.78.78-.78 2.05 0 2.83L4 21.41c.39.39.9.59 1.41.59.51 0 1.02-.2 1.41-.59l7.78-7.78 2.81-2.81c.8-.78.8-2.07 0-2.86zM5.41 20L4 18.59l7.72-7.72 1.47 1.35L5.41 20z\"/>\n",
              "  </svg>\n",
              "      </button>\n",
              "      \n",
              "  <style>\n",
              "    .colab-df-container {\n",
              "      display:flex;\n",
              "      flex-wrap:wrap;\n",
              "      gap: 12px;\n",
              "    }\n",
              "\n",
              "    .colab-df-convert {\n",
              "      background-color: #E8F0FE;\n",
              "      border: none;\n",
              "      border-radius: 50%;\n",
              "      cursor: pointer;\n",
              "      display: none;\n",
              "      fill: #1967D2;\n",
              "      height: 32px;\n",
              "      padding: 0 0 0 0;\n",
              "      width: 32px;\n",
              "    }\n",
              "\n",
              "    .colab-df-convert:hover {\n",
              "      background-color: #E2EBFA;\n",
              "      box-shadow: 0px 1px 2px rgba(60, 64, 67, 0.3), 0px 1px 3px 1px rgba(60, 64, 67, 0.15);\n",
              "      fill: #174EA6;\n",
              "    }\n",
              "\n",
              "    [theme=dark] .colab-df-convert {\n",
              "      background-color: #3B4455;\n",
              "      fill: #D2E3FC;\n",
              "    }\n",
              "\n",
              "    [theme=dark] .colab-df-convert:hover {\n",
              "      background-color: #434B5C;\n",
              "      box-shadow: 0px 1px 3px 1px rgba(0, 0, 0, 0.15);\n",
              "      filter: drop-shadow(0px 1px 2px rgba(0, 0, 0, 0.3));\n",
              "      fill: #FFFFFF;\n",
              "    }\n",
              "  </style>\n",
              "\n",
              "      <script>\n",
              "        const buttonEl =\n",
              "          document.querySelector('#df-f07c9e74-15e3-467d-a6d7-6b2946eb0b64 button.colab-df-convert');\n",
              "        buttonEl.style.display =\n",
              "          google.colab.kernel.accessAllowed ? 'block' : 'none';\n",
              "\n",
              "        async function convertToInteractive(key) {\n",
              "          const element = document.querySelector('#df-f07c9e74-15e3-467d-a6d7-6b2946eb0b64');\n",
              "          const dataTable =\n",
              "            await google.colab.kernel.invokeFunction('convertToInteractive',\n",
              "                                                     [key], {});\n",
              "          if (!dataTable) return;\n",
              "\n",
              "          const docLinkHtml = 'Like what you see? Visit the ' +\n",
              "            '<a target=\"_blank\" href=https://colab.research.google.com/notebooks/data_table.ipynb>data table notebook</a>'\n",
              "            + ' to learn more about interactive tables.';\n",
              "          element.innerHTML = '';\n",
              "          dataTable['output_type'] = 'display_data';\n",
              "          await google.colab.output.renderOutput(dataTable, element);\n",
              "          const docLink = document.createElement('div');\n",
              "          docLink.innerHTML = docLinkHtml;\n",
              "          element.appendChild(docLink);\n",
              "        }\n",
              "      </script>\n",
              "    </div>\n",
              "  </div>\n",
              "  "
            ]
          },
          "metadata": {},
          "execution_count": 58
        }
      ]
    },
    {
      "cell_type": "markdown",
      "source": [
        "Droppping numerical columns and preparing data for TransactionEncoder"
      ],
      "metadata": {
        "id": "pSflZcgaX-gP"
      }
    },
    {
      "cell_type": "code",
      "source": [
        "responses = responses.drop(['Timestamp','Pay','Adjusted Pay','Weekly Hours','Enjoyment','Team Size'], axis = 1)\n",
        "responses['Enjoyed'] = responses['Enjoyed'].apply(lambda x: 'Enjoyed' if x==1 else 'Not Enjoyed')"
      ],
      "metadata": {
        "id": "yRiJTj3ahWIi"
      },
      "execution_count": null,
      "outputs": []
    },
    {
      "cell_type": "code",
      "source": [
        "dataset = responses.astype(str).values.tolist()"
      ],
      "metadata": {
        "id": "oLhtePjHHvoD"
      },
      "execution_count": null,
      "outputs": []
    },
    {
      "cell_type": "code",
      "source": [
        "print(dataset)"
      ],
      "metadata": {
        "colab": {
          "base_uri": "https://localhost:8080/"
        },
        "id": "uVs9BXS5KZQT",
        "outputId": "8f982def-5a22-4c0f-a94c-624a8e6ffda0"
      },
      "execution_count": null,
      "outputs": [
        {
          "output_type": "stream",
          "name": "stdout",
          "text": [
            "[['Management Engineering', '3', 'Project Manager', 'Remote', 'No Returning', 'WaterlooWorks', 'No Top Choice', 'Toronto (GTA)', 'No Other Coops', 'Enjoyed', '15-20'], ['Management Engineering', '3', 'Consultant', 'Remote', 'No Returning', 'WaterlooWorks', 'Yes Top Choice', 'Toronto (GTA)', 'No Other Coops', 'Enjoyed', '20-30'], ['Management Engineering', '3', 'Developer', 'Remote', 'No Returning', 'WaterlooWorks', 'No Top Choice', 'Toronto (GTA)', 'No Other Coops', 'Not Enjoyed', '20-30'], ['Management Engineering', '3', 'Project Manager', 'Remote', 'No Returning', 'WaterlooWorks', 'Yes Top Choice', 'Toronto (GTA)', 'No Other Coops', 'Enjoyed', '20-30'], ['Management Engineering', '3', 'Business Analyst', 'Remote', 'No Returning', 'WaterlooWorks', 'Yes Top Choice', 'Toronto (GTA)', 'No Other Coops', 'Not Enjoyed', '20-30'], ['Management Engineering', '3', 'Business Analyst', 'Remote', 'No Returning', 'WaterlooWorks', 'No Top Choice', 'Toronto (GTA)', 'No Other Coops', 'Enjoyed', '15-20'], ['Management Engineering', '3', 'Data Science / Analyst', 'Hybrid', 'No Returning', 'WaterlooWorks', 'Yes Top Choice', 'Toronto (GTA)', 'Yes Other Coops', 'Enjoyed', '20-30'], ['Management Engineering', '3', 'Project Manager', 'Hybrid', 'No Returning', 'WaterlooWorks', 'Yes Top Choice', 'Toronto (GTA)', 'No Other Coops', 'Enjoyed', '20-30'], ['Management Engineering', '3', 'Data Administrator', 'Hybrid', 'No Returning', 'WaterlooWorks', 'Yes Top Choice', 'Waterloo', 'No Other Coops', 'Not Enjoyed', '20-30'], ['Management Engineering', '3', 'Supply Chain Analyst', 'Remote', 'No Returning', 'Arranged own job', 'No Top Choice', 'Waterloo', 'No Other Coops', 'Not Enjoyed', '15-20'], ['Management Engineering', '3', 'Manufacturing / Process Engineer', 'Hybrid', 'Yes Returning', 'Arranged own job', 'Yes Top Choice', 'Toronto (GTA)', 'Yes Other Coops', 'Enjoyed', '30-40'], ['Management Engineering', '3', 'Project Manager', 'Remote', 'No Returning', 'WaterlooWorks', 'Yes Top Choice', 'Toronto (GTA)', 'No Other Coops', 'Enjoyed', '20-30'], ['Management Engineering', '3', 'Developer', 'Remote', 'Yes Returning', 'Arranged own job', 'Yes Top Choice', 'California', 'No Other Coops', 'Enjoyed', '50+'], ['Management Engineering', '3', 'Data Science / Analyst', 'Remote', 'No Returning', 'WaterlooWorks', 'Yes Top Choice', 'Elsewhere in Ontario', 'Yes Other Coops', 'Enjoyed', '20-30'], ['Management Engineering', '3', 'Product / Program Manager', 'Remote', 'No Returning', 'WaterlooWorks', 'Yes Top Choice', 'Toronto (GTA)', 'No Other Coops', 'Enjoyed', '20-30'], ['Management Engineering', '3', 'Manufacturing / Process Engineer', 'In-person', 'No Returning', 'WaterlooWorks', 'No Top Choice', 'Toronto (GTA)', 'Yes Other Coops', 'Enjoyed', '20-30'], ['Management Engineering', '3', 'Data Science / Analyst', 'Remote', 'No Returning', 'WaterlooWorks', 'No Top Choice', 'Toronto (GTA)', 'No Other Coops', 'Enjoyed', '20-30'], ['Management Engineering', '3', 'Manufacturing / Process Engineer', 'In-person', 'No Returning', 'WaterlooWorks', 'No Top Choice', 'Toronto (GTA)', 'Yes Other Coops', 'Enjoyed', '20-30'], ['Management Engineering', '3', 'Business Analyst', 'Remote', 'Yes Returning', 'WaterlooWorks', 'Yes Top Choice', 'Toronto (GTA)', 'No Other Coops', 'Enjoyed', '20-30'], ['Management Engineering', '2', 'Product / Program Manager', 'Remote', 'No Returning', 'WaterlooWorks', 'Yes Top Choice', 'Elsewhere in The United States', 'Yes Other Coops', 'Not Enjoyed', '50+'], ['Management Engineering', '3', 'Consultant', 'Hybrid', 'No Returning', 'WaterlooWorks', 'Yes Top Choice', 'Toronto (GTA)', 'No Other Coops', 'Enjoyed', '30-40'], ['Management Engineering', '3', 'Developer', 'Remote', 'No Returning', 'WaterlooWorks', 'Yes Top Choice', 'Elsewhere in Canada', 'Yes Other Coops', 'Enjoyed', '20-30'], ['Management Engineering', '3', 'Business Analyst', 'Remote', 'No Returning', 'WaterlooWorks', 'No Top Choice', 'Waterloo', 'Yes Other Coops', 'Not Enjoyed', '20-30'], ['Management Engineering', '4', 'Data Science / Analyst', 'Remote', 'No Returning', 'WaterlooWorks', 'No Top Choice', 'Toronto (GTA)', 'No Other Coops', 'Enjoyed', '20-30'], ['Management Engineering', '3', 'Supply Chain Analyst', 'Remote', 'No Returning', 'WaterlooWorks', 'Yes Top Choice', 'California', 'No Other Coops', 'Not Enjoyed', '30-40'], ['Management Engineering', '3', 'Consultant', 'Remote', 'No Returning', 'WaterlooWorks', 'Yes Top Choice', 'International', 'Yes Other Coops', 'Enjoyed', '30-40'], ['Management Engineering', '3', 'Product / Program Manager', 'In-person', 'No Returning', 'Arranged own job', 'Yes Top Choice', 'Elsewhere in The United States', 'No Other Coops', 'Enjoyed', '50+'], ['Management Engineering', '3', 'Supply Chain Analyst', 'Remote', 'No Returning', 'WaterlooWorks', 'Yes Top Choice', 'Toronto (GTA)', 'Yes Other Coops', 'Enjoyed', '20-30'], ['Management Engineering', '3', 'Data Science / Analyst', 'Remote', 'Yes Returning', 'WaterlooWorks', 'Yes Top Choice', 'Toronto (GTA)', 'No Other Coops', 'Enjoyed', '20-30'], ['Management Engineering', '3', 'Developer', 'Remote', 'No Returning', 'WaterlooWorks', 'Yes Top Choice', 'California', 'No Other Coops', 'Enjoyed', '40-50'], ['Management Engineering', '3', 'Developer', 'Remote', 'No Returning', 'WaterlooWorks', 'Yes Top Choice', 'Toronto (GTA)', 'Yes Other Coops', 'Enjoyed', '20-30'], ['Management Engineering', '3', 'Product / Program Manager', 'Remote', 'No Returning', 'WaterlooWorks', 'Yes Top Choice', 'Toronto (GTA)', 'Yes Other Coops', 'Enjoyed', '30-40'], ['Management Engineering', '3', 'Data Science / Analyst', 'Remote', 'No Returning', 'WaterlooWorks', 'Yes Top Choice', 'California', 'No Other Coops', 'Not Enjoyed', '40-50'], ['Management Engineering', '3', 'Developer', 'Remote', 'Yes Returning', 'WaterlooWorks', 'Yes Top Choice', 'Waterloo', 'No Other Coops', 'Enjoyed', '30-40'], ['Management Engineering', '3', 'Developer', 'Remote', 'No Returning', 'WaterlooWorks', 'Yes Top Choice', 'Elsewhere in Canada', 'Yes Other Coops', 'Enjoyed', '20-30'], ['Management Engineering', '3', 'Developer', 'Remote', 'No Returning', 'Arranged own job', 'Yes Top Choice', 'Toronto (GTA)', 'No Other Coops', 'Enjoyed', '20-30'], ['Software Engineering', '3', 'Developer', 'Remote', 'No Returning', 'WaterlooWorks', 'Yes Top Choice', 'California', 'No Other Coops', 'Enjoyed', '40-50'], ['Software Engineering', '3', 'Developer', 'Remote', 'No Returning', 'WaterlooWorks', 'Yes Top Choice', 'Toronto (GTA)', 'No Other Coops', 'Enjoyed', '20-30'], ['Software Engineering', '2', 'Developer', 'Remote', 'No Returning', 'WaterlooWorks', 'Yes Top Choice', 'California', 'No Other Coops', 'Enjoyed', '40-50'], ['Software Engineering', '4', 'Developer', 'Remote', 'No Returning', 'Arranged own job', 'Yes Top Choice', 'California', 'No Other Coops', 'Not Enjoyed', '30-40'], ['Software Engineering', '3', 'Developer', 'Remote', 'No Returning', 'WaterlooWorks', 'Yes Top Choice', 'Waterloo', 'Yes Other Coops', 'Enjoyed', '20-30'], ['Computer Science', '3', 'Developer', 'Remote', 'No Returning', 'Arranged own job', 'Yes Top Choice', 'Toronto (GTA)', 'No Other Coops', 'Not Enjoyed', '20-30'], ['Software Engineering', '3', 'Developer', 'Remote', 'No Returning', 'WaterlooWorks', 'Yes Top Choice', 'Toronto (GTA)', 'No Other Coops', 'Enjoyed', '20-30'], ['Management Engineering', '2', 'Business Development', 'Remote', 'No Returning', 'WaterlooWorks', 'No Top Choice', 'Waterloo', 'Yes Other Coops', 'Not Enjoyed', '20-30'], ['Management Engineering', '1', 'Developer', 'Remote', 'No Returning', 'Arranged own job', 'Yes Top Choice', 'Toronto (GTA)', 'No Other Coops', 'Enjoyed', '20-30'], ['Management Engineering', '1', 'Systems Engineer', 'Hybrid', 'No Returning', 'WaterlooWorks', 'No Top Choice', 'Waterloo', 'Yes Other Coops', 'Not Enjoyed', '20-30'], ['Management Engineering', '3', 'Product / Program Manager', 'Remote', 'No Returning', 'WaterlooWorks', 'Yes Top Choice', 'Waterloo', 'Yes Other Coops', 'Enjoyed', '20-30'], ['Management Engineering', '3', 'Product Analyst', 'In-person', 'No Returning', 'Arranged own job', 'Yes Top Choice', 'International', 'No Other Coops', 'Not Enjoyed', '15-20'], ['Software Engineering', '3', 'Developer', 'Remote', 'No Returning', 'WaterlooWorks', 'Yes Top Choice', 'Toronto (GTA)', 'Yes Other Coops', 'Enjoyed', '30-40'], ['Management Engineering', '3', 'Business Development', 'Remote', 'No Returning', 'WaterlooWorks', 'No Top Choice', 'Toronto (GTA)', 'Yes Other Coops', 'Not Enjoyed', '15-20'], ['Software Engineering', '3', 'Developer', 'Hybrid', 'Yes Returning', 'WaterlooWorks', 'Yes Top Choice', 'Toronto (GTA)', 'No Other Coops', 'Enjoyed', '20-30'], ['Management Engineering', '3', 'Developer', 'Hybrid', 'Yes Returning', 'Arranged own job', 'Yes Top Choice', 'Toronto (GTA)', 'No Other Coops', 'Enjoyed', '20-30'], ['Software Engineering', '3', 'Developer', 'Remote', 'No Returning', 'WaterlooWorks', 'Yes Top Choice', 'California', 'No Other Coops', 'Enjoyed', '40-50'], ['Software Engineering', '3', 'Developer', 'Remote', 'No Returning', 'WaterlooWorks', 'Yes Top Choice', 'Toronto (GTA)', 'Yes Other Coops', 'Enjoyed', '20-30'], ['Software Engineering', '3', 'Developer', 'Remote', 'No Returning', 'WaterlooWorks', 'Yes Top Choice', 'Toronto (GTA)', 'No Other Coops', 'Enjoyed', '40-50'], ['Software Engineering', '2', 'Developer', 'Remote', 'No Returning', 'WaterlooWorks', 'Yes Top Choice', 'Toronto (GTA)', 'No Other Coops', 'Enjoyed', '30-40'], ['Software Engineering', '3', 'Developer', 'In-person', 'No Returning', 'Arranged own job', 'Yes Top Choice', 'California', 'Yes Other Coops', 'Enjoyed', '30-40'], ['Computer Science', '3', 'Developer', 'Remote', 'No Returning', 'Arranged own job', 'Yes Top Choice', 'California', 'No Other Coops', 'Enjoyed', '40-50'], ['Management Engineering', '3', 'Product / Program Manager', 'Remote', 'No Returning', 'WaterlooWorks', 'No Top Choice', 'Elsewhere in Ontario', 'No Other Coops', 'Not Enjoyed', '20-30'], ['Software Engineering', '3', 'Researcher', 'In-person', 'Yes Returning', 'Arranged own job', 'Yes Top Choice', 'Waterloo', 'No Other Coops', 'Enjoyed', '30-40'], ['Computer Science', '3', 'Developer', 'Remote', 'No Returning', 'WaterlooWorks', 'Yes Top Choice', 'Waterloo', 'No Other Coops', 'Not Enjoyed', '30-40'], ['Management Engineering', '2', 'Data Science / Analyst', 'Remote', 'No Returning', 'WaterlooWorks', 'Yes Top Choice', 'Elsewhere in Ontario', 'No Other Coops', 'Enjoyed', '15-20'], ['Management Engineering', '2', 'Developer', 'Remote', 'Yes Returning', 'WaterlooWorks', 'Yes Top Choice', 'Toronto (GTA)', 'No Other Coops', 'Enjoyed', '20-30'], ['Software Engineering', '3', 'Developer', 'Remote', 'No Returning', 'WaterlooWorks', 'Yes Top Choice', 'Elsewhere in The United States', 'Yes Other Coops', 'Enjoyed', '50+'], ['Management Engineering', '6', 'Developer', 'Remote', 'No Returning', 'WaterlooWorks', 'Yes Top Choice', 'California', 'No Other Coops', 'Enjoyed', '50+'], ['Management Engineering', '3', 'Data Science / Analyst', 'Remote', 'No Returning', 'WaterlooWorks', 'Yes Top Choice', 'Toronto (GTA)', 'No Other Coops', 'Not Enjoyed', '20-30'], ['Software Engineering', '3', 'Developer', 'In-person', 'No Returning', 'WaterlooWorks', 'Yes Top Choice', 'Elsewhere in Ontario', 'No Other Coops', 'Enjoyed', '20-30'], ['Actuarial Science', '3', 'Accountant', 'Hybrid', 'No Returning', 'Arranged own job', 'Yes Top Choice', 'Elsewhere in The United States', 'No Other Coops', 'Not Enjoyed', '15-20'], ['Software Engineering', '3', 'Product / Program Manager', 'Remote', 'No Returning', 'Arranged own job', 'Yes Top Choice', 'Toronto (GTA)', 'No Other Coops', 'Enjoyed', '20-30'], ['Management Engineering', '1', 'Project Manager', 'Remote', 'No Returning', 'WaterlooWorks', 'Yes Top Choice', 'Toronto (GTA)', 'Yes Other Coops', 'Not Enjoyed', '20-30'], ['Software Engineering', '3', 'Developer', 'Remote', 'No Returning', 'WaterlooWorks', 'No Top Choice', 'Toronto (GTA)', 'No Other Coops', 'Enjoyed', '20-30'], ['Mechatronics Engineering', '3', 'Systems Engineer', 'Remote', 'No Returning', 'WaterlooWorks', 'Yes Top Choice', 'Toronto (GTA)', 'No Other Coops', 'Not Enjoyed', '20-30'], ['Mechatronics Engineering', '2', 'Designer', 'Hybrid', 'No Returning', 'WaterlooWorks', 'Yes Top Choice', 'Waterloo', 'Yes Other Coops', 'Enjoyed', '20-30'], ['Mechanical Engineering', '2', 'Designer', 'Remote', 'No Returning', 'WaterlooWorks', 'No Top Choice', 'Elsewhere in Ontario', 'No Other Coops', 'Not Enjoyed', '20-30'], ['Mechatronics Engineering', '2', 'Developer', 'Hybrid', 'No Returning', 'WaterlooWorks', 'Yes Top Choice', 'Toronto (GTA)', 'No Other Coops', 'Not Enjoyed', '20-30'], ['Chemical Engineering', '5', 'Business Analyst', 'Hybrid', 'No Returning', 'WaterlooWorks', 'Yes Top Choice', 'Toronto (GTA)', 'No Other Coops', 'Enjoyed', '20-30'], ['Biomedical Engineering', '6', 'Data Science / Analyst', 'Remote', 'Yes Returning', 'Arranged own job', 'Yes Top Choice', 'Waterloo', 'No Other Coops', 'Enjoyed', '20-30'], ['Management Engineering', '3', 'Business Development', 'Remote', 'No Returning', 'WaterlooWorks', 'Yes Top Choice', 'Toronto (GTA)', 'No Other Coops', 'Enjoyed', '15-20'], ['Management Engineering', '3', 'Project Manager', 'In-person', 'No Returning', 'WaterlooWorks', 'Yes Top Choice', 'Toronto (GTA)', 'Yes Other Coops', 'Enjoyed', '20-30'], ['Management Engineering', '3', 'Project Manager', 'In-person', 'Yes Returning', 'WaterlooWorks', 'Yes Top Choice', 'Toronto (GTA)', 'No Other Coops', 'Enjoyed', '20-30'], ['Management Engineering', '3', 'Developer', 'Remote', 'No Returning', 'WaterlooWorks', 'Yes Top Choice', 'Toronto (GTA)', 'Yes Other Coops', 'Enjoyed', '20-30'], ['Management Engineering', '2', 'Project Manager', 'In-person', 'Yes Returning', 'Arranged own job', 'Yes Top Choice', 'Toronto (GTA)', 'Yes Other Coops', 'Enjoyed', '15-20'], ['Management Engineering', '4', 'Project Manager', 'Remote', 'No Returning', 'WaterlooWorks', 'Yes Top Choice', 'Toronto (GTA)', 'No Other Coops', 'Enjoyed', '30-40'], ['Planning', '2', 'Student Planner', 'Hybrid', 'No Returning', 'WaterlooWorks', 'Yes Top Choice', 'Waterloo', 'No Other Coops', 'Enjoyed', '20-30'], ['Mathematics/Financial Analysis and Risk Management', '3', 'Data Science / Analyst', 'Hybrid', 'No Returning', 'Arranged own job', 'Yes Top Choice', 'Elsewhere in Canada', 'No Other Coops', 'Enjoyed', '20-30'], ['Management Engineering', '3', 'Developer', 'Remote', 'No Returning', 'WaterlooWorks', 'No Top Choice', 'Toronto (GTA)', 'Yes Other Coops', 'Enjoyed', '20-30'], ['Public Health', '1', 'Data Science / Analyst', 'Remote', 'No Returning', 'WaterlooWorks', 'No Top Choice', 'Toronto (GTA)', 'Yes Other Coops', 'Enjoyed', '-15'], ['Management Engineering', '3', 'Developer', 'Remote', 'No Returning', 'WaterlooWorks', 'Yes Top Choice', 'Toronto (GTA)', 'No Other Coops', 'Enjoyed', '20-30'], ['Nanotechnology Engineering', '3', 'Data Science / Analyst', 'Remote', 'No Returning', 'WaterlooWorks', 'Yes Top Choice', 'Toronto (GTA)', 'Yes Other Coops', 'Enjoyed', '20-30'], ['Accounting and Financial Management', '2', 'Accountant', 'Remote', 'No Returning', 'WaterlooWorks', 'Yes Top Choice', 'Toronto (GTA)', 'No Other Coops', 'Enjoyed', '15-20'], ['Management Engineering', '3', 'Product / Program Manager', 'Remote', 'No Returning', 'WaterlooWorks', 'Yes Top Choice', 'Elsewhere in Ontario', 'No Other Coops', 'Enjoyed', '20-30'], ['Management Engineering', '2', 'Researcher', 'Remote', 'No Returning', 'Arranged own job', 'Yes Top Choice', 'Waterloo', 'No Other Coops', 'Enjoyed', '20-30'], ['Environment and Business', '5', 'Business Development', 'Remote', 'No Returning', 'WaterlooWorks', 'No Top Choice', 'Waterloo', 'Yes Other Coops', 'Enjoyed', '20-30'], ['Chemical Engineering', '3', 'Supply Chain Analyst', 'In-person', 'No Returning', 'WaterlooWorks', 'Yes Top Choice', 'Toronto (GTA)', 'No Other Coops', 'Enjoyed', '20-30'], ['Computer Science', '5', 'Developer', 'Remote', 'Yes Returning', 'Arranged own job', 'Yes Top Choice', 'Toronto (GTA)', 'Yes Other Coops', 'Enjoyed', '40-50'], ['Computer Science', '1', 'Developer', 'Remote', 'No Returning', 'WaterlooWorks', 'No Top Choice', 'Toronto (GTA)', 'Yes Other Coops', 'Not Enjoyed', '20-30'], ['Computer Science', '2', 'Developer', 'Remote', 'No Returning', 'WaterlooWorks', 'Yes Top Choice', 'Toronto (GTA)', 'Yes Other Coops', 'Not Enjoyed', '20-30'], ['Computer Science', '3', 'Developer', 'In-person', 'Yes Returning', 'Arranged own job', 'Yes Top Choice', 'Toronto (GTA)', 'Yes Other Coops', 'Enjoyed', '20-30'], ['Computer Science', '4', 'Developer', 'In-person', 'No Returning', 'WaterlooWorks', 'Yes Top Choice', 'Toronto (GTA)', 'Yes Other Coops', 'Enjoyed', '20-30'], ['Computer Science', '2', 'Developer', 'Remote', 'No Returning', 'WaterlooWorks', 'No Top Choice', 'Toronto (GTA)', 'No Other Coops', 'Not Enjoyed', '20-30'], ['Chemical Engineering', '3', 'Supply Chain Analyst', 'Remote', 'Yes Returning', 'Arranged own job', 'Yes Top Choice', 'Waterloo', 'No Other Coops', 'Enjoyed', '20-30'], ['Computer Science', '1', 'Developer', 'Remote', 'No Returning', 'WaterlooWorks', 'No Top Choice', 'Toronto (GTA)', 'Yes Other Coops', 'Not Enjoyed', '20-30'], ['Computer Science', '5', 'Developer', 'In-person', 'No Returning', 'WaterlooWorks', 'Yes Top Choice', 'Waterloo', 'Yes Other Coops', 'Enjoyed', '30-40'], ['Management Engineering', '2', 'Developer', 'Remote', 'No Returning', 'WaterlooWorks', 'No Top Choice', 'Toronto (GTA)', 'No Other Coops', 'Not Enjoyed', '15-20'], ['Computer Science', '1', 'Developer', 'Remote', 'No Returning', 'WaterlooWorks', 'No Top Choice', 'Waterloo', 'Yes Other Coops', 'Not Enjoyed', '20-30'], ['Computer Science', '2', 'Developer', 'Remote', 'No Returning', 'WaterlooWorks', 'Yes Top Choice', 'Waterloo', 'Yes Other Coops', 'Not Enjoyed', '20-30'], ['Computer Science', '6', 'Developer', 'Remote', 'Yes Returning', 'Arranged own job', 'Yes Top Choice', 'California', 'Yes Other Coops', 'Enjoyed', '50+'], ['Management Engineering', '1', 'Project Manager', 'Remote', 'No Returning', 'WaterlooWorks', 'No Top Choice', 'Elsewhere in Ontario', 'No Other Coops', 'Not Enjoyed', '20-30'], ['Computer Science', '6', 'Developer', 'Remote', 'Yes Returning', 'Arranged own job', 'Yes Top Choice', 'California', 'Yes Other Coops', 'Enjoyed', '40-50'], ['Chemical Engineering', '5', 'Systems Engineer', 'Remote', 'Yes Returning', 'Arranged own job', 'Yes Top Choice', 'Waterloo', 'No Other Coops', 'Enjoyed', '20-30'], ['Chemical Engineering', '4', 'Supply Chain Analyst', 'In-person', 'No Returning', 'WaterlooWorks', 'Yes Top Choice', 'Toronto (GTA)', 'Yes Other Coops', 'Enjoyed', '20-30'], ['Chemical Engineering', '1', 'Systems Engineer', 'Remote', 'No Returning', 'WaterlooWorks', 'No Top Choice', 'Toronto (GTA)', 'Yes Other Coops', 'Not Enjoyed', '20-30'], ['Chemical Engineering', '2', 'Systems Engineer', 'In-person', 'No Returning', 'WaterlooWorks', 'No Top Choice', 'Toronto (GTA)', 'Yes Other Coops', 'Not Enjoyed', '20-30'], ['Mechatronics Engineering', '2', 'Manufacturing / Process Engineer', 'In-person', 'No Returning', 'WaterlooWorks', 'Yes Top Choice', 'Toronto (GTA)', 'Yes Other Coops', 'Enjoyed', '20-30'], ['Mechatronics Engineering', '2', 'Systems Engineer', 'Remote', 'No Returning', 'WaterlooWorks', 'Yes Top Choice', 'Elsewhere in Ontario', 'Yes Other Coops', 'Not Enjoyed', '20-30'], ['Mechatronics Engineering', '2', 'Systems Engineer', 'Remote', 'No Returning', 'WaterlooWorks', 'Yes Top Choice', 'Toronto (GTA)', 'Yes Other Coops', 'Not Enjoyed', '20-30'], ['Mechatronics Engineering', '5', 'Systems Engineer', 'In-person', 'No Returning', 'WaterlooWorks', 'Yes Top Choice', 'Waterloo', 'Yes Other Coops', 'Enjoyed', '30-40'], ['Mechatronics Engineering', '6', 'Developer', 'In-person', 'Yes Returning', 'WaterlooWorks', 'Yes Top Choice', 'Elsewhere in Ontario', 'Yes Other Coops', 'Enjoyed', '30-40'], ['Mechanical Engineering', '2', 'Supply Chain Analyst', 'Remote', 'No Returning', 'WaterlooWorks', 'Yes Top Choice', 'Toronto (GTA)', 'Yes Other Coops', 'Not Enjoyed', '15-20'], ['Mechanical Engineering', '1', 'Systems Engineer', 'Remote', 'No Returning', 'WaterlooWorks', 'No Top Choice', 'Toronto (GTA)', 'Yes Other Coops', 'Not Enjoyed', '15-20'], ['Mechanical Engineering', '5', 'Developer', 'Remote', 'No Returning', 'Arranged own job', 'Yes Top Choice', 'Elsewhere in Canada', 'Yes Other Coops', 'Enjoyed', '20-30'], ['Mechanical Engineering', '4', 'Manufacturing / Process Engineer', 'Remote', 'No Returning', 'WaterlooWorks', 'Yes Top Choice', 'Toronto (GTA)', 'Yes Other Coops', 'Enjoyed', '20-30'], ['Mechanical Engineering', '2', 'Project Manager', 'Remote', 'No Returning', 'WaterlooWorks', 'Yes Top Choice', 'Toronto (GTA)', 'Yes Other Coops', 'Enjoyed', '20-30']]\n"
          ]
        }
      ]
    },
    {
      "cell_type": "markdown",
      "source": [
        "Generating datafram to extract itemsets"
      ],
      "metadata": {
        "id": "m40i5YYDYH1j"
      }
    },
    {
      "cell_type": "code",
      "source": [
        "oht = TransactionEncoder()\n",
        "oht_array = oht.fit(dataset).transform(dataset)\n",
        "df = pd.DataFrame(oht_array, columns=oht.columns_)\n",
        "df.head()"
      ],
      "metadata": {
        "colab": {
          "base_uri": "https://localhost:8080/",
          "height": 314
        },
        "id": "UI1jKHxKJAuI",
        "outputId": "7a5f2711-90b1-4d8f-a68e-99e37cc52f0c"
      },
      "execution_count": null,
      "outputs": [
        {
          "output_type": "execute_result",
          "data": {
            "text/plain": [
              "     -15      1  15-20      2  20-30     3  30-40      4  40-50      5  ...  \\\n",
              "0  False  False   True  False  False  True  False  False  False  False  ...   \n",
              "1  False  False  False  False   True  True  False  False  False  False  ...   \n",
              "2  False  False  False  False   True  True  False  False  False  False  ...   \n",
              "3  False  False  False  False   True  True  False  False  False  False  ...   \n",
              "4  False  False  False  False   True  True  False  False  False  False  ...   \n",
              "\n",
              "   Software Engineering  Student Planner  Supply Chain Analyst  \\\n",
              "0                 False            False                 False   \n",
              "1                 False            False                 False   \n",
              "2                 False            False                 False   \n",
              "3                 False            False                 False   \n",
              "4                 False            False                 False   \n",
              "\n",
              "   Systems Engineer  Toronto (GTA)  Waterloo  WaterlooWorks  Yes Other Coops  \\\n",
              "0             False           True     False           True            False   \n",
              "1             False           True     False           True            False   \n",
              "2             False           True     False           True            False   \n",
              "3             False           True     False           True            False   \n",
              "4             False           True     False           True            False   \n",
              "\n",
              "   Yes Returning  Yes Top Choice  \n",
              "0          False           False  \n",
              "1          False            True  \n",
              "2          False           False  \n",
              "3          False            True  \n",
              "4          False            True  \n",
              "\n",
              "[5 rows x 62 columns]"
            ],
            "text/html": [
              "\n",
              "  <div id=\"df-b4effaa5-2103-4422-a196-a5e3e1f27b83\">\n",
              "    <div class=\"colab-df-container\">\n",
              "      <div>\n",
              "<style scoped>\n",
              "    .dataframe tbody tr th:only-of-type {\n",
              "        vertical-align: middle;\n",
              "    }\n",
              "\n",
              "    .dataframe tbody tr th {\n",
              "        vertical-align: top;\n",
              "    }\n",
              "\n",
              "    .dataframe thead th {\n",
              "        text-align: right;\n",
              "    }\n",
              "</style>\n",
              "<table border=\"1\" class=\"dataframe\">\n",
              "  <thead>\n",
              "    <tr style=\"text-align: right;\">\n",
              "      <th></th>\n",
              "      <th>-15</th>\n",
              "      <th>1</th>\n",
              "      <th>15-20</th>\n",
              "      <th>2</th>\n",
              "      <th>20-30</th>\n",
              "      <th>3</th>\n",
              "      <th>30-40</th>\n",
              "      <th>4</th>\n",
              "      <th>40-50</th>\n",
              "      <th>5</th>\n",
              "      <th>...</th>\n",
              "      <th>Software Engineering</th>\n",
              "      <th>Student Planner</th>\n",
              "      <th>Supply Chain Analyst</th>\n",
              "      <th>Systems Engineer</th>\n",
              "      <th>Toronto (GTA)</th>\n",
              "      <th>Waterloo</th>\n",
              "      <th>WaterlooWorks</th>\n",
              "      <th>Yes Other Coops</th>\n",
              "      <th>Yes Returning</th>\n",
              "      <th>Yes Top Choice</th>\n",
              "    </tr>\n",
              "  </thead>\n",
              "  <tbody>\n",
              "    <tr>\n",
              "      <th>0</th>\n",
              "      <td>False</td>\n",
              "      <td>False</td>\n",
              "      <td>True</td>\n",
              "      <td>False</td>\n",
              "      <td>False</td>\n",
              "      <td>True</td>\n",
              "      <td>False</td>\n",
              "      <td>False</td>\n",
              "      <td>False</td>\n",
              "      <td>False</td>\n",
              "      <td>...</td>\n",
              "      <td>False</td>\n",
              "      <td>False</td>\n",
              "      <td>False</td>\n",
              "      <td>False</td>\n",
              "      <td>True</td>\n",
              "      <td>False</td>\n",
              "      <td>True</td>\n",
              "      <td>False</td>\n",
              "      <td>False</td>\n",
              "      <td>False</td>\n",
              "    </tr>\n",
              "    <tr>\n",
              "      <th>1</th>\n",
              "      <td>False</td>\n",
              "      <td>False</td>\n",
              "      <td>False</td>\n",
              "      <td>False</td>\n",
              "      <td>True</td>\n",
              "      <td>True</td>\n",
              "      <td>False</td>\n",
              "      <td>False</td>\n",
              "      <td>False</td>\n",
              "      <td>False</td>\n",
              "      <td>...</td>\n",
              "      <td>False</td>\n",
              "      <td>False</td>\n",
              "      <td>False</td>\n",
              "      <td>False</td>\n",
              "      <td>True</td>\n",
              "      <td>False</td>\n",
              "      <td>True</td>\n",
              "      <td>False</td>\n",
              "      <td>False</td>\n",
              "      <td>True</td>\n",
              "    </tr>\n",
              "    <tr>\n",
              "      <th>2</th>\n",
              "      <td>False</td>\n",
              "      <td>False</td>\n",
              "      <td>False</td>\n",
              "      <td>False</td>\n",
              "      <td>True</td>\n",
              "      <td>True</td>\n",
              "      <td>False</td>\n",
              "      <td>False</td>\n",
              "      <td>False</td>\n",
              "      <td>False</td>\n",
              "      <td>...</td>\n",
              "      <td>False</td>\n",
              "      <td>False</td>\n",
              "      <td>False</td>\n",
              "      <td>False</td>\n",
              "      <td>True</td>\n",
              "      <td>False</td>\n",
              "      <td>True</td>\n",
              "      <td>False</td>\n",
              "      <td>False</td>\n",
              "      <td>False</td>\n",
              "    </tr>\n",
              "    <tr>\n",
              "      <th>3</th>\n",
              "      <td>False</td>\n",
              "      <td>False</td>\n",
              "      <td>False</td>\n",
              "      <td>False</td>\n",
              "      <td>True</td>\n",
              "      <td>True</td>\n",
              "      <td>False</td>\n",
              "      <td>False</td>\n",
              "      <td>False</td>\n",
              "      <td>False</td>\n",
              "      <td>...</td>\n",
              "      <td>False</td>\n",
              "      <td>False</td>\n",
              "      <td>False</td>\n",
              "      <td>False</td>\n",
              "      <td>True</td>\n",
              "      <td>False</td>\n",
              "      <td>True</td>\n",
              "      <td>False</td>\n",
              "      <td>False</td>\n",
              "      <td>True</td>\n",
              "    </tr>\n",
              "    <tr>\n",
              "      <th>4</th>\n",
              "      <td>False</td>\n",
              "      <td>False</td>\n",
              "      <td>False</td>\n",
              "      <td>False</td>\n",
              "      <td>True</td>\n",
              "      <td>True</td>\n",
              "      <td>False</td>\n",
              "      <td>False</td>\n",
              "      <td>False</td>\n",
              "      <td>False</td>\n",
              "      <td>...</td>\n",
              "      <td>False</td>\n",
              "      <td>False</td>\n",
              "      <td>False</td>\n",
              "      <td>False</td>\n",
              "      <td>True</td>\n",
              "      <td>False</td>\n",
              "      <td>True</td>\n",
              "      <td>False</td>\n",
              "      <td>False</td>\n",
              "      <td>True</td>\n",
              "    </tr>\n",
              "  </tbody>\n",
              "</table>\n",
              "<p>5 rows × 62 columns</p>\n",
              "</div>\n",
              "      <button class=\"colab-df-convert\" onclick=\"convertToInteractive('df-b4effaa5-2103-4422-a196-a5e3e1f27b83')\"\n",
              "              title=\"Convert this dataframe to an interactive table.\"\n",
              "              style=\"display:none;\">\n",
              "        \n",
              "  <svg xmlns=\"http://www.w3.org/2000/svg\" height=\"24px\"viewBox=\"0 0 24 24\"\n",
              "       width=\"24px\">\n",
              "    <path d=\"M0 0h24v24H0V0z\" fill=\"none\"/>\n",
              "    <path d=\"M18.56 5.44l.94 2.06.94-2.06 2.06-.94-2.06-.94-.94-2.06-.94 2.06-2.06.94zm-11 1L8.5 8.5l.94-2.06 2.06-.94-2.06-.94L8.5 2.5l-.94 2.06-2.06.94zm10 10l.94 2.06.94-2.06 2.06-.94-2.06-.94-.94-2.06-.94 2.06-2.06.94z\"/><path d=\"M17.41 7.96l-1.37-1.37c-.4-.4-.92-.59-1.43-.59-.52 0-1.04.2-1.43.59L10.3 9.45l-7.72 7.72c-.78.78-.78 2.05 0 2.83L4 21.41c.39.39.9.59 1.41.59.51 0 1.02-.2 1.41-.59l7.78-7.78 2.81-2.81c.8-.78.8-2.07 0-2.86zM5.41 20L4 18.59l7.72-7.72 1.47 1.35L5.41 20z\"/>\n",
              "  </svg>\n",
              "      </button>\n",
              "      \n",
              "  <style>\n",
              "    .colab-df-container {\n",
              "      display:flex;\n",
              "      flex-wrap:wrap;\n",
              "      gap: 12px;\n",
              "    }\n",
              "\n",
              "    .colab-df-convert {\n",
              "      background-color: #E8F0FE;\n",
              "      border: none;\n",
              "      border-radius: 50%;\n",
              "      cursor: pointer;\n",
              "      display: none;\n",
              "      fill: #1967D2;\n",
              "      height: 32px;\n",
              "      padding: 0 0 0 0;\n",
              "      width: 32px;\n",
              "    }\n",
              "\n",
              "    .colab-df-convert:hover {\n",
              "      background-color: #E2EBFA;\n",
              "      box-shadow: 0px 1px 2px rgba(60, 64, 67, 0.3), 0px 1px 3px 1px rgba(60, 64, 67, 0.15);\n",
              "      fill: #174EA6;\n",
              "    }\n",
              "\n",
              "    [theme=dark] .colab-df-convert {\n",
              "      background-color: #3B4455;\n",
              "      fill: #D2E3FC;\n",
              "    }\n",
              "\n",
              "    [theme=dark] .colab-df-convert:hover {\n",
              "      background-color: #434B5C;\n",
              "      box-shadow: 0px 1px 3px 1px rgba(0, 0, 0, 0.15);\n",
              "      filter: drop-shadow(0px 1px 2px rgba(0, 0, 0, 0.3));\n",
              "      fill: #FFFFFF;\n",
              "    }\n",
              "  </style>\n",
              "\n",
              "      <script>\n",
              "        const buttonEl =\n",
              "          document.querySelector('#df-b4effaa5-2103-4422-a196-a5e3e1f27b83 button.colab-df-convert');\n",
              "        buttonEl.style.display =\n",
              "          google.colab.kernel.accessAllowed ? 'block' : 'none';\n",
              "\n",
              "        async function convertToInteractive(key) {\n",
              "          const element = document.querySelector('#df-b4effaa5-2103-4422-a196-a5e3e1f27b83');\n",
              "          const dataTable =\n",
              "            await google.colab.kernel.invokeFunction('convertToInteractive',\n",
              "                                                     [key], {});\n",
              "          if (!dataTable) return;\n",
              "\n",
              "          const docLinkHtml = 'Like what you see? Visit the ' +\n",
              "            '<a target=\"_blank\" href=https://colab.research.google.com/notebooks/data_table.ipynb>data table notebook</a>'\n",
              "            + ' to learn more about interactive tables.';\n",
              "          element.innerHTML = '';\n",
              "          dataTable['output_type'] = 'display_data';\n",
              "          await google.colab.output.renderOutput(dataTable, element);\n",
              "          const docLink = document.createElement('div');\n",
              "          docLink.innerHTML = docLinkHtml;\n",
              "          element.appendChild(docLink);\n",
              "        }\n",
              "      </script>\n",
              "    </div>\n",
              "  </div>\n",
              "  "
            ]
          },
          "metadata": {},
          "execution_count": 62
        }
      ]
    },
    {
      "cell_type": "markdown",
      "source": [
        "##Rule Mining"
      ],
      "metadata": {
        "id": "i9maHDRQYNzU"
      }
    },
    {
      "cell_type": "code",
      "source": [
        "frequent_itemsets = apriori(df, min_support = 0.6, use_colnames = True)\n",
        "print(frequent_itemsets)"
      ],
      "metadata": {
        "colab": {
          "base_uri": "https://localhost:8080/"
        },
        "id": "fVBhSbN3mh2U",
        "outputId": "74c0042f-14c4-44c0-9461-9b1bf5e2250d"
      },
      "execution_count": null,
      "outputs": [
        {
          "output_type": "stream",
          "name": "stdout",
          "text": [
            "     support                        itemsets\n",
            "0   0.634146                         (20-30)\n",
            "1   0.707317                       (Enjoyed)\n",
            "2   0.845528                  (No Returning)\n",
            "3   0.731707                        (Remote)\n",
            "4   0.788618                 (WaterlooWorks)\n",
            "5   0.780488                (Yes Top Choice)\n",
            "6   0.626016       (Enjoyed, Yes Top Choice)\n",
            "7   0.642276          (Remote, No Returning)\n",
            "8   0.731707   (WaterlooWorks, No Returning)\n",
            "9   0.626016  (Yes Top Choice, No Returning)\n",
            "10  0.601626         (WaterlooWorks, Remote)\n"
          ]
        }
      ]
    },
    {
      "cell_type": "code",
      "source": [
        "rules = association_rules(frequent_itemsets, metric = 'confidence', min_threshold = 0.7)\n",
        "print(rules[['antecedents','consequents','support','confidence']])"
      ],
      "metadata": {
        "colab": {
          "base_uri": "https://localhost:8080/"
        },
        "id": "MWUPhYr2mzHK",
        "outputId": "beeea25d-737d-4733-a2b8-215f8a52669c"
      },
      "execution_count": null,
      "outputs": [
        {
          "output_type": "stream",
          "name": "stdout",
          "text": [
            "        antecedents       consequents   support  confidence\n",
            "0         (Enjoyed)  (Yes Top Choice)  0.626016    0.885057\n",
            "1  (Yes Top Choice)         (Enjoyed)  0.626016    0.802083\n",
            "2          (Remote)    (No Returning)  0.642276    0.877778\n",
            "3    (No Returning)          (Remote)  0.642276    0.759615\n",
            "4   (WaterlooWorks)    (No Returning)  0.731707    0.927835\n",
            "5    (No Returning)   (WaterlooWorks)  0.731707    0.865385\n",
            "6  (Yes Top Choice)    (No Returning)  0.626016    0.802083\n",
            "7    (No Returning)  (Yes Top Choice)  0.626016    0.740385\n",
            "8   (WaterlooWorks)          (Remote)  0.601626    0.762887\n",
            "9          (Remote)   (WaterlooWorks)  0.601626    0.822222\n"
          ]
        }
      ]
    },
    {
      "cell_type": "markdown",
      "source": [
        "### Second attempt"
      ],
      "metadata": {
        "id": "2qSV-5J8VzjZ"
      }
    },
    {
      "cell_type": "markdown",
      "source": [
        "Here increasing the minimum support by 10%"
      ],
      "metadata": {
        "id": "GjhjQow-V2gA"
      }
    },
    {
      "cell_type": "code",
      "source": [
        "frequent_itemsets = apriori(df, min_support = 0.7, use_colnames = True)\n",
        "print(frequent_itemsets)"
      ],
      "metadata": {
        "colab": {
          "base_uri": "https://localhost:8080/"
        },
        "id": "IsCbACLKV_GO",
        "outputId": "ae649e2f-1424-4c97-e2c3-5c3b4c3fbecb"
      },
      "execution_count": null,
      "outputs": [
        {
          "output_type": "stream",
          "name": "stdout",
          "text": [
            "    support                       itemsets\n",
            "0  0.707317                      (Enjoyed)\n",
            "1  0.845528                 (No Returning)\n",
            "2  0.731707                       (Remote)\n",
            "3  0.788618                (WaterlooWorks)\n",
            "4  0.780488               (Yes Top Choice)\n",
            "5  0.731707  (WaterlooWorks, No Returning)\n"
          ]
        }
      ]
    },
    {
      "cell_type": "code",
      "source": [
        "rules = association_rules(frequent_itemsets, metric = 'confidence', min_threshold = 0.7)\n",
        "print(rules[['antecedents','consequents','support','confidence']])"
      ],
      "metadata": {
        "colab": {
          "base_uri": "https://localhost:8080/"
        },
        "id": "KDnFkp_fWK2Z",
        "outputId": "2c5266d7-79d4-4c5d-a716-420c7cf95a42"
      },
      "execution_count": null,
      "outputs": [
        {
          "output_type": "stream",
          "name": "stdout",
          "text": [
            "       antecedents      consequents   support  confidence\n",
            "0  (WaterlooWorks)   (No Returning)  0.731707    0.927835\n",
            "1   (No Returning)  (WaterlooWorks)  0.731707    0.865385\n"
          ]
        }
      ]
    },
    {
      "cell_type": "markdown",
      "source": [
        "Here we see that if you are returning to the job you're not applying through waterloo works\n"
      ],
      "metadata": {
        "id": "2OGGX1nAWlQx"
      }
    },
    {
      "cell_type": "markdown",
      "source": [
        "###Third attempt"
      ],
      "metadata": {
        "id": "WSzTHDZjWtfD"
      }
    },
    {
      "cell_type": "markdown",
      "source": [
        "From original, increasing confidence to 80%"
      ],
      "metadata": {
        "id": "GQGwMK5PW0PG"
      }
    },
    {
      "cell_type": "code",
      "source": [
        "frequent_itemsets = apriori(df, min_support = 0.6, use_colnames = True)\n",
        "print(frequent_itemsets)"
      ],
      "metadata": {
        "colab": {
          "base_uri": "https://localhost:8080/"
        },
        "id": "Toooy97aW-PL",
        "outputId": "e14e7b14-c9c4-414d-df54-4d1dd1d627ea"
      },
      "execution_count": null,
      "outputs": [
        {
          "output_type": "stream",
          "name": "stdout",
          "text": [
            "     support                        itemsets\n",
            "0   0.634146                         (20-30)\n",
            "1   0.707317                       (Enjoyed)\n",
            "2   0.845528                  (No Returning)\n",
            "3   0.731707                        (Remote)\n",
            "4   0.788618                 (WaterlooWorks)\n",
            "5   0.780488                (Yes Top Choice)\n",
            "6   0.626016       (Enjoyed, Yes Top Choice)\n",
            "7   0.642276          (Remote, No Returning)\n",
            "8   0.731707   (WaterlooWorks, No Returning)\n",
            "9   0.626016  (Yes Top Choice, No Returning)\n",
            "10  0.601626         (WaterlooWorks, Remote)\n"
          ]
        }
      ]
    },
    {
      "cell_type": "code",
      "source": [
        "rules = association_rules(frequent_itemsets, metric = 'confidence', min_threshold = 0.8)\n",
        "print(rules[['antecedents','consequents','support','confidence']])"
      ],
      "metadata": {
        "colab": {
          "base_uri": "https://localhost:8080/"
        },
        "id": "boJLP1y6XAgi",
        "outputId": "551fc23f-db9f-4a50-b078-611cffbcae94"
      },
      "execution_count": null,
      "outputs": [
        {
          "output_type": "stream",
          "name": "stdout",
          "text": [
            "        antecedents       consequents   support  confidence\n",
            "0         (Enjoyed)  (Yes Top Choice)  0.626016    0.885057\n",
            "1  (Yes Top Choice)         (Enjoyed)  0.626016    0.802083\n",
            "2          (Remote)    (No Returning)  0.642276    0.877778\n",
            "3   (WaterlooWorks)    (No Returning)  0.731707    0.927835\n",
            "4    (No Returning)   (WaterlooWorks)  0.731707    0.865385\n",
            "5  (Yes Top Choice)    (No Returning)  0.626016    0.802083\n",
            "6          (Remote)   (WaterlooWorks)  0.601626    0.822222\n"
          ]
        }
      ]
    },
    {
      "cell_type": "markdown",
      "source": [
        "###Fourth Attempt"
      ],
      "metadata": {
        "id": "CgL9TyIUXdgZ"
      }
    },
    {
      "cell_type": "markdown",
      "source": [
        "From original, decreasing min support to 50 and increasing confidence to 90 (idk why prolly should be 70)"
      ],
      "metadata": {
        "id": "Flts0BQMXdgk"
      }
    },
    {
      "cell_type": "code",
      "source": [
        "frequent_itemsets = apriori(df, min_support = 0.5, use_colnames = True)\n",
        "print(frequent_itemsets)"
      ],
      "metadata": {
        "colab": {
          "base_uri": "https://localhost:8080/"
        },
        "outputId": "4d574ab7-5955-4a80-e85b-e16663262620",
        "id": "87apq3V3Xdgk"
      },
      "execution_count": null,
      "outputs": [
        {
          "output_type": "stream",
          "name": "stdout",
          "text": [
            "     support                                       itemsets\n",
            "0   0.634146                                        (20-30)\n",
            "1   0.585366                                            (3)\n",
            "2   0.707317                                      (Enjoyed)\n",
            "3   0.552846                               (No Other Coops)\n",
            "4   0.845528                                 (No Returning)\n",
            "5   0.731707                                       (Remote)\n",
            "6   0.569106                                (Toronto (GTA))\n",
            "7   0.788618                                (WaterlooWorks)\n",
            "8   0.780488                               (Yes Top Choice)\n",
            "9   0.552846                          (20-30, No Returning)\n",
            "10  0.536585                         (20-30, WaterlooWorks)\n",
            "11  0.552846                        (Enjoyed, No Returning)\n",
            "12  0.536585                       (Enjoyed, WaterlooWorks)\n",
            "13  0.626016                      (Enjoyed, Yes Top Choice)\n",
            "14  0.642276                         (Remote, No Returning)\n",
            "15  0.731707                  (WaterlooWorks, No Returning)\n",
            "16  0.626016                 (Yes Top Choice, No Returning)\n",
            "17  0.601626                        (WaterlooWorks, Remote)\n",
            "18  0.544715                       (Yes Top Choice, Remote)\n",
            "19  0.577236                (WaterlooWorks, Yes Top Choice)\n",
            "20  0.569106          (Remote, WaterlooWorks, No Returning)\n",
            "21  0.520325  (Yes Top Choice, WaterlooWorks, No Returning)\n"
          ]
        }
      ]
    },
    {
      "cell_type": "code",
      "source": [
        "rules = association_rules(frequent_itemsets, metric = 'confidence', min_threshold = 0.9)\n",
        "print(rules[['antecedents','consequents','support','confidence']])"
      ],
      "metadata": {
        "colab": {
          "base_uri": "https://localhost:8080/"
        },
        "outputId": "20389d7d-4cfb-490c-ba90-192e215c079f",
        "id": "j0HbJYPXXdgl"
      },
      "execution_count": null,
      "outputs": [
        {
          "output_type": "stream",
          "name": "stdout",
          "text": [
            "                       antecedents     consequents   support  confidence\n",
            "0                  (WaterlooWorks)  (No Returning)  0.731707    0.927835\n",
            "1          (WaterlooWorks, Remote)  (No Returning)  0.569106    0.945946\n",
            "2  (WaterlooWorks, Yes Top Choice)  (No Returning)  0.520325    0.901408\n"
          ]
        }
      ]
    },
    {
      "cell_type": "markdown",
      "source": [
        "###Fifth attempt"
      ],
      "metadata": {
        "id": "CksZdA0JX8Tp"
      }
    },
    {
      "cell_type": "markdown",
      "source": [
        "From original, increasing min_support to 80% and decresing confidence to 60%\n"
      ],
      "metadata": {
        "id": "03MW8LrxX8Tq"
      }
    },
    {
      "cell_type": "code",
      "source": [
        "frequent_itemsets = apriori(df, min_support = 0.8, use_colnames = True)\n",
        "print(frequent_itemsets)"
      ],
      "metadata": {
        "colab": {
          "base_uri": "https://localhost:8080/"
        },
        "outputId": "ac0ede3b-87b3-4513-de37-125f16cc275a",
        "id": "ZFROlcHxX8Tq"
      },
      "execution_count": null,
      "outputs": [
        {
          "output_type": "stream",
          "name": "stdout",
          "text": [
            "    support        itemsets\n",
            "0  0.845528  (No Returning)\n"
          ]
        }
      ]
    },
    {
      "cell_type": "code",
      "source": [
        "rules = association_rules(frequent_itemsets, metric = 'confidence', min_threshold = 0.6)\n",
        "print(rules[['antecedents','consequents','support','confidence']])"
      ],
      "metadata": {
        "colab": {
          "base_uri": "https://localhost:8080/"
        },
        "outputId": "b1d4b982-2675-4615-b77b-d6bc342f687e",
        "id": "ONef7kskX8Tr"
      },
      "execution_count": null,
      "outputs": [
        {
          "output_type": "stream",
          "name": "stdout",
          "text": [
            "Empty DataFrame\n",
            "Columns: [antecedents, consequents, support, confidence]\n",
            "Index: []\n"
          ]
        }
      ]
    }
  ]
}
